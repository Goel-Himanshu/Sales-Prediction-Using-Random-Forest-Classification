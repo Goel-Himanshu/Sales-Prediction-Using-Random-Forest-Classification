{
  "nbformat": 4,
  "nbformat_minor": 0,
  "metadata": {
    "colab": {
      "name": "Sales Prediction Using Random Forest Classification.ipynb",
      "provenance": [],
      "collapsed_sections": [],
      "authorship_tag": "ABX9TyOYI2RDn7PMWMd02kAFRSRp",
      "include_colab_link": true
    },
    "kernelspec": {
      "name": "python3",
      "display_name": "Python 3"
    },
    "language_info": {
      "name": "python"
    },
    "accelerator": "GPU"
  },
  "cells": [
    {
      "cell_type": "markdown",
      "metadata": {
        "id": "view-in-github",
        "colab_type": "text"
      },
      "source": [
        "<a href=\"https://colab.research.google.com/github/Goel-Himanshu/Sales-Prediction-Using-Random-Forest-Classification/blob/main/Sales_Prediction_Using_Random_Forest_Classification.ipynb\" target=\"_parent\"><img src=\"https://colab.research.google.com/assets/colab-badge.svg\" alt=\"Open In Colab\"/></a>"
      ]
    },
    {
      "cell_type": "markdown",
      "source": [
        "# Importing the libraries"
      ],
      "metadata": {
        "id": "2afo7tzo_9AQ"
      }
    },
    {
      "cell_type": "code",
      "source": [
        "import numpy as np\n",
        "import matplotlib.pyplot as plt\n",
        "import pandas as pd"
      ],
      "metadata": {
        "id": "7aBcOcrp_-Q7"
      },
      "execution_count": 3,
      "outputs": []
    },
    {
      "cell_type": "markdown",
      "source": [
        "## Importing the **dataset**"
      ],
      "metadata": {
        "id": "f0rH0MyRAEW9"
      }
    },
    {
      "cell_type": "code",
      "source": [
        "dataset = pd.read_csv( 'Social_Network_Ads.csv' )\n",
        "X_1 = dataset.iloc[ : , 1 : -1 ].values\n",
        "y_1 = dataset.iloc[ : , -1 ].values"
      ],
      "metadata": {
        "id": "peH9f18hABlC"
      },
      "execution_count": 4,
      "outputs": []
    },
    {
      "cell_type": "markdown",
      "source": [
        "## Encoding categorical **data**"
      ],
      "metadata": {
        "id": "heWGMno8AScj"
      }
    },
    {
      "cell_type": "markdown",
      "source": [
        "Encoding the Independent Variable"
      ],
      "metadata": {
        "id": "XAH5bwWZAV4u"
      }
    },
    {
      "cell_type": "code",
      "source": [
        "from sklearn.compose import ColumnTransformer\n",
        "from sklearn.preprocessing import OneHotEncoder\n",
        "ctr = ColumnTransformer( transformers = [ ( 'encoder' , OneHotEncoder() , [ 0 ] ) ] , remainder = 'passthrough' )\n",
        "X_1 = np.array( ctr.fit_transform ( X_1 ) )"
      ],
      "metadata": {
        "id": "fu3zauZrATUY"
      },
      "execution_count": 5,
      "outputs": []
    },
    {
      "cell_type": "markdown",
      "source": [
        "# Splitting the dataset into the Training set and Test set"
      ],
      "metadata": {
        "id": "aFlUFVFoAjXl"
      }
    },
    {
      "cell_type": "code",
      "source": [
        "from sklearn.model_selection import train_test_split\n",
        "X_train_1, X_test_1, y_train_1, y_test_1 = train_test_split( X_1 , y_1 , test_size = 0.25 , random_state = 0 )"
      ],
      "metadata": {
        "id": "wIuvXHCkAcNr"
      },
      "execution_count": 6,
      "outputs": []
    },
    {
      "cell_type": "markdown",
      "source": [
        "## Feature **Scaling**"
      ],
      "metadata": {
        "id": "7Pv5mn0ZAs7E"
      }
    },
    {
      "cell_type": "code",
      "source": [
        "from sklearn.preprocessing import StandardScaler\n",
        "sc_1 = StandardScaler()\n",
        "X_train_1[ : , 2: ] = sc_1.fit_transform( X_train_1 [ : , 2: ] )\n",
        "X_test_1[ : , 2: ] = sc_1.transform( X_test_1 [ : , 2: ])"
      ],
      "metadata": {
        "id": "rmETdawtAoA5"
      },
      "execution_count": 7,
      "outputs": []
    },
    {
      "cell_type": "markdown",
      "source": [
        "## Training the Random Forest Classification model on the Training **set**"
      ],
      "metadata": {
        "id": "h4BjzpluA0_r"
      }
    },
    {
      "cell_type": "code",
      "source": [
        "from sklearn.ensemble import RandomForestClassifier\n",
        "rfc_1 = RandomForestClassifier( n_estimators = 100 , criterion = 'entropy' , random_state = 0 )\n",
        "rfc_1.fit( X_train_1 , y_train_1 )"
      ],
      "metadata": {
        "colab": {
          "base_uri": "https://localhost:8080/"
        },
        "id": "3Eh0xKL5Aw3n",
        "outputId": "ae5aace8-9049-40af-e213-2753424699d6"
      },
      "execution_count": 8,
      "outputs": [
        {
          "output_type": "execute_result",
          "data": {
            "text/plain": [
              "RandomForestClassifier(criterion='entropy', random_state=0)"
            ]
          },
          "metadata": {},
          "execution_count": 8
        }
      ]
    },
    {
      "cell_type": "markdown",
      "source": [
        "## Predicting the Test set **results**"
      ],
      "metadata": {
        "id": "A6s8owQOA6iQ"
      }
    },
    {
      "cell_type": "code",
      "source": [
        "y_pred_1 = rfc_1.predict( X_test_1 )\n",
        "print( np.concatenate ( ( y_pred_1.reshape ( len ( y_pred_1 ) ,1 ), y_test_1.reshape ( len ( y_test_1 ) , 1 ) ) , 1 ) )"
      ],
      "metadata": {
        "colab": {
          "base_uri": "https://localhost:8080/"
        },
        "id": "6wxAoEW8A5aR",
        "outputId": "1c73ab33-509a-4e04-ef26-b21aab366f55"
      },
      "execution_count": 9,
      "outputs": [
        {
          "output_type": "stream",
          "name": "stdout",
          "text": [
            "[[0 0]\n",
            " [0 0]\n",
            " [0 0]\n",
            " [0 0]\n",
            " [0 0]\n",
            " [0 0]\n",
            " [0 0]\n",
            " [1 1]\n",
            " [0 0]\n",
            " [1 0]\n",
            " [0 0]\n",
            " [0 0]\n",
            " [0 0]\n",
            " [0 0]\n",
            " [0 0]\n",
            " [1 0]\n",
            " [0 0]\n",
            " [0 0]\n",
            " [1 1]\n",
            " [0 0]\n",
            " [0 0]\n",
            " [1 1]\n",
            " [0 0]\n",
            " [1 1]\n",
            " [0 0]\n",
            " [1 1]\n",
            " [0 0]\n",
            " [0 0]\n",
            " [0 0]\n",
            " [0 0]\n",
            " [0 0]\n",
            " [0 1]\n",
            " [1 1]\n",
            " [0 0]\n",
            " [0 0]\n",
            " [0 0]\n",
            " [0 0]\n",
            " [0 0]\n",
            " [0 0]\n",
            " [1 1]\n",
            " [0 0]\n",
            " [0 0]\n",
            " [0 0]\n",
            " [0 0]\n",
            " [0 1]\n",
            " [0 0]\n",
            " [0 0]\n",
            " [1 1]\n",
            " [0 0]\n",
            " [1 1]\n",
            " [1 1]\n",
            " [0 0]\n",
            " [0 0]\n",
            " [1 0]\n",
            " [1 1]\n",
            " [1 1]\n",
            " [0 0]\n",
            " [0 0]\n",
            " [1 1]\n",
            " [0 0]\n",
            " [0 0]\n",
            " [1 1]\n",
            " [0 0]\n",
            " [1 1]\n",
            " [0 0]\n",
            " [1 1]\n",
            " [0 0]\n",
            " [0 0]\n",
            " [0 0]\n",
            " [0 0]\n",
            " [1 1]\n",
            " [0 0]\n",
            " [0 0]\n",
            " [1 1]\n",
            " [0 0]\n",
            " [0 0]\n",
            " [0 0]\n",
            " [0 0]\n",
            " [1 1]\n",
            " [1 1]\n",
            " [1 1]\n",
            " [1 0]\n",
            " [0 0]\n",
            " [0 0]\n",
            " [1 1]\n",
            " [0 1]\n",
            " [0 0]\n",
            " [1 1]\n",
            " [1 1]\n",
            " [0 0]\n",
            " [0 0]\n",
            " [1 1]\n",
            " [0 0]\n",
            " [0 0]\n",
            " [0 0]\n",
            " [0 1]\n",
            " [0 0]\n",
            " [1 1]\n",
            " [1 1]\n",
            " [1 1]]\n"
          ]
        }
      ]
    },
    {
      "cell_type": "markdown",
      "source": [
        "## Making the Confusion **Matrix**"
      ],
      "metadata": {
        "id": "jalYunKgBUpS"
      }
    },
    {
      "cell_type": "code",
      "source": [
        "from sklearn.metrics import confusion_matrix, accuracy_score\n",
        "cm_1 = confusion_matrix( y_test_1 , y_pred_1 )\n",
        "print( cm_1 )\n",
        "accuracy_score( y_test_1 , y_pred_1 )"
      ],
      "metadata": {
        "colab": {
          "base_uri": "https://localhost:8080/"
        },
        "id": "A1Pswhn6BFSj",
        "outputId": "48413ede-4cd3-4ae2-eb9a-cc1db102cf9e"
      },
      "execution_count": 10,
      "outputs": [
        {
          "output_type": "stream",
          "name": "stdout",
          "text": [
            "[[64  4]\n",
            " [ 4 28]]\n"
          ]
        },
        {
          "output_type": "execute_result",
          "data": {
            "text/plain": [
              "0.92"
            ]
          },
          "metadata": {},
          "execution_count": 10
        }
      ]
    },
    {
      "cell_type": "markdown",
      "source": [
        "## Removing the Gender Column to see the improvement in accuracy and visualizing the result.**bold text**"
      ],
      "metadata": {
        "id": "Qqr76URMBcEW"
      }
    },
    {
      "cell_type": "code",
      "source": [
        "dataset = pd.read_csv('Social_Network_Ads.csv')\n",
        "X_2 = dataset.iloc[ :, 2:-1 ].values\n",
        "y_2 = dataset.iloc[ :, -1 ].values"
      ],
      "metadata": {
        "id": "5lVH8i4ZBdb6"
      },
      "execution_count": 11,
      "outputs": []
    },
    {
      "cell_type": "markdown",
      "source": [
        "## Splitting the dataset into the Training set and Test **set**"
      ],
      "metadata": {
        "id": "iRaMFKKIBvaa"
      }
    },
    {
      "cell_type": "code",
      "source": [
        "from sklearn.model_selection import train_test_split\n",
        "X_train_2, X_test_2, y_train_2, y_test_2 = train_test_split( X_2 , y_2 , test_size = 0.25 , random_state = 0 )"
      ],
      "metadata": {
        "id": "UY_gwiZmBsnD"
      },
      "execution_count": 12,
      "outputs": []
    },
    {
      "cell_type": "markdown",
      "source": [
        "## Feature **Scaling**"
      ],
      "metadata": {
        "id": "an7FyW7EB5Fe"
      }
    },
    {
      "cell_type": "code",
      "source": [
        "from sklearn.preprocessing import StandardScaler\n",
        "sc_2 = StandardScaler()\n",
        "X_train_2 = sc_2.fit_transform( X_train_2 )\n",
        "X_test_2 = sc_2.transform( X_test_2 )"
      ],
      "metadata": {
        "id": "Rt2IRfNoBz1D"
      },
      "execution_count": 13,
      "outputs": []
    },
    {
      "cell_type": "markdown",
      "source": [
        "# Training the Random Forest Classification model on the Training set"
      ],
      "metadata": {
        "id": "7WEGJ6FMCCtP"
      }
    },
    {
      "cell_type": "code",
      "source": [
        "from sklearn.ensemble import RandomForestClassifier\n",
        "rfc_2 = RandomForestClassifier( n_estimators = 100 , criterion = 'entropy' , random_state = 0)\n",
        "rfc_2.fit( X_train_2 , y_train_2 )"
      ],
      "metadata": {
        "colab": {
          "base_uri": "https://localhost:8080/"
        },
        "id": "z2qbIBApB8Qz",
        "outputId": "8bf44d1b-2d29-4907-90d4-941d080ed935"
      },
      "execution_count": 14,
      "outputs": [
        {
          "output_type": "execute_result",
          "data": {
            "text/plain": [
              "RandomForestClassifier(criterion='entropy', random_state=0)"
            ]
          },
          "metadata": {},
          "execution_count": 14
        }
      ]
    },
    {
      "cell_type": "markdown",
      "source": [
        "## Predicting the Test set **results**"
      ],
      "metadata": {
        "id": "Q3SYSxWBCU_n"
      }
    },
    {
      "cell_type": "code",
      "source": [
        "y_pred_2 = rfc_2.predict( X_test_2 )\n",
        "print(np.concatenate( ( y_pred_2.reshape ( len ( y_pred_2 ) , 1 ), y_test_2.reshape( len ( y_test_2 ) , 1 ) ) , 1 ) )"
      ],
      "metadata": {
        "colab": {
          "base_uri": "https://localhost:8080/"
        },
        "id": "BM5WgTOTCR6-",
        "outputId": "03377d59-2f92-4a63-81ce-8d71f475a98b"
      },
      "execution_count": 15,
      "outputs": [
        {
          "output_type": "stream",
          "name": "stdout",
          "text": [
            "[[0 0]\n",
            " [0 0]\n",
            " [0 0]\n",
            " [0 0]\n",
            " [0 0]\n",
            " [0 0]\n",
            " [0 0]\n",
            " [1 1]\n",
            " [0 0]\n",
            " [1 0]\n",
            " [0 0]\n",
            " [0 0]\n",
            " [0 0]\n",
            " [0 0]\n",
            " [0 0]\n",
            " [1 0]\n",
            " [1 0]\n",
            " [0 0]\n",
            " [1 1]\n",
            " [0 0]\n",
            " [0 0]\n",
            " [1 1]\n",
            " [0 0]\n",
            " [1 1]\n",
            " [0 0]\n",
            " [0 1]\n",
            " [0 0]\n",
            " [0 0]\n",
            " [0 0]\n",
            " [0 0]\n",
            " [0 0]\n",
            " [0 1]\n",
            " [1 1]\n",
            " [0 0]\n",
            " [0 0]\n",
            " [0 0]\n",
            " [0 0]\n",
            " [0 0]\n",
            " [0 0]\n",
            " [1 1]\n",
            " [0 0]\n",
            " [0 0]\n",
            " [0 0]\n",
            " [0 0]\n",
            " [1 1]\n",
            " [0 0]\n",
            " [0 0]\n",
            " [1 1]\n",
            " [0 0]\n",
            " [1 1]\n",
            " [1 1]\n",
            " [0 0]\n",
            " [0 0]\n",
            " [0 0]\n",
            " [1 1]\n",
            " [1 1]\n",
            " [0 0]\n",
            " [0 0]\n",
            " [1 1]\n",
            " [0 0]\n",
            " [0 0]\n",
            " [1 1]\n",
            " [0 0]\n",
            " [1 1]\n",
            " [0 0]\n",
            " [1 1]\n",
            " [0 0]\n",
            " [0 0]\n",
            " [0 0]\n",
            " [1 0]\n",
            " [1 1]\n",
            " [0 0]\n",
            " [0 0]\n",
            " [1 1]\n",
            " [0 0]\n",
            " [0 0]\n",
            " [0 0]\n",
            " [0 0]\n",
            " [1 1]\n",
            " [1 1]\n",
            " [1 1]\n",
            " [1 0]\n",
            " [0 0]\n",
            " [0 0]\n",
            " [1 1]\n",
            " [0 1]\n",
            " [0 0]\n",
            " [1 1]\n",
            " [1 1]\n",
            " [0 0]\n",
            " [0 0]\n",
            " [1 1]\n",
            " [0 0]\n",
            " [0 0]\n",
            " [0 0]\n",
            " [0 1]\n",
            " [0 0]\n",
            " [1 1]\n",
            " [1 1]\n",
            " [1 1]]\n"
          ]
        }
      ]
    },
    {
      "cell_type": "markdown",
      "source": [
        "## Making the Confusion **Matrix**"
      ],
      "metadata": {
        "id": "DCQ2JNSPCdqr"
      }
    },
    {
      "cell_type": "code",
      "source": [
        "from sklearn.metrics import confusion_matrix, accuracy_score\n",
        "cm_2 = confusion_matrix( y_test_2, y_pred_2 )\n",
        "print( cm_2 )\n",
        "accuracy_score( y_test_2, y_pred_2 )"
      ],
      "metadata": {
        "colab": {
          "base_uri": "https://localhost:8080/"
        },
        "id": "GmxCc6dMCfEq",
        "outputId": "a80c1d06-bbeb-4093-decc-99b66d0f12de"
      },
      "execution_count": 16,
      "outputs": [
        {
          "output_type": "stream",
          "name": "stdout",
          "text": [
            "[[63  5]\n",
            " [ 4 28]]\n"
          ]
        },
        {
          "output_type": "execute_result",
          "data": {
            "text/plain": [
              "0.91"
            ]
          },
          "metadata": {},
          "execution_count": 16
        }
      ]
    },
    {
      "cell_type": "markdown",
      "source": [
        "## Visualising the Training set **results**"
      ],
      "metadata": {
        "id": "keyVajxXCtGl"
      }
    },
    {
      "cell_type": "code",
      "source": [
        "from matplotlib.colors import ListedColormap\n",
        "X_set, y_set = sc_2.inverse_transform( X_train_2 ) , y_train_2\n",
        "X1, X2 = np.meshgrid( np.arange ( start = X_set[ :, 0 ].min() - 10, stop = X_set[ :, 0 ].max() + 10, step = 0.25 ),\n",
        " np.arange( start = X_set[ :, 1 ].min() - 1000, stop = X_set[ :, 1 ].max() + 1000, step = 0.25 ) )\n",
        "plt.contourf( X1, X2, rfc_2.predict( sc_2.transform ( np.array ( [ X1.ravel(), X2.ravel() ] ) .T ) ).reshape( X1.shape ),\n",
        " alpha = 0.75, cmap = ListedColormap( ( 'lightgreen', 'aqua' ) ) )\n",
        "plt.xlim( X1.min(), X1.max() )\n",
        "plt.ylim( X2.min(), X2.max() )\n",
        "for i, j in enumerate( np.unique( y_set ) ):\n",
        " plt.scatter( X_set [ y_set == j, 0 ] , X_set[ y_set == j, 1 ], c = ListedColormap( ( 'darkgreen', 'midnightblue' ) ) ( i ), label = j )\n",
        "plt.title( 'Random Forest Classification ( Training Dataset )' )\n",
        "plt.xlabel( 'Age' )\n",
        "plt.ylabel( 'Estimated Salary' )\n",
        "plt.legend()\n",
        "plt.show()"
      ],
      "metadata": {
        "colab": {
          "base_uri": "https://localhost:8080/",
          "height": 350
        },
        "id": "3oRVcoPDCqS6",
        "outputId": "53aef16d-841d-41c6-ecce-6b4a34333d55"
      },
      "execution_count": 17,
      "outputs": [
        {
          "output_type": "stream",
          "name": "stderr",
          "text": [
            "*c* argument looks like a single numeric RGB or RGBA sequence, which should be avoided as value-mapping will have precedence in case its length matches with *x* & *y*.  Please use the *color* keyword-argument or provide a 2-D array with a single row if you intend to specify the same RGB or RGBA value for all points.\n",
            "*c* argument looks like a single numeric RGB or RGBA sequence, which should be avoided as value-mapping will have precedence in case its length matches with *x* & *y*.  Please use the *color* keyword-argument or provide a 2-D array with a single row if you intend to specify the same RGB or RGBA value for all points.\n"
          ]
        },
        {
          "output_type": "display_data",
          "data": {
            "text/plain": [
              "<Figure size 432x288 with 1 Axes>"
            ],
            "image/png": "[encoded data removed]"
          },
          "metadata": {
            "needs_background": "light"
          }
        }
      ]
    },
    {
      "cell_type": "markdown",
      "source": [
        "## Visualising the Test set **results**"
      ],
      "metadata": {
        "id": "72aNcm2tC3MZ"
      }
    },
    {
      "cell_type": "code",
      "source": [
        "from matplotlib.colors import ListedColormap\n",
        "X_set, y_set = sc_2.inverse_transform( X_test_2 ), y_test_2\n",
        "X1, X2 = np.meshgrid( np.arange ( start = X_set[ :, 0 ].min() - 10, stop = X_set[ :, 0 ].max() + 10, step = 0.25 ),\n",
        " np.arange( start = X_set[ :, 1 ].min() - 1000, stop = X_set[ :, 1 ].max() + 1000, step = 0.25 ) )\n",
        "plt.contourf( X1, X2, rfc_2.predict( sc_2.transform( np.array ( [ X1.ravel(), X2.ravel() ] ) .T ) ).reshape( X1.shape ),\n",
        " alpha = 0.75, cmap = ListedColormap( ( 'lightgreen', 'aqua' ) ) )\n",
        "plt.xlim( X1.min(), X1.max() )\n",
        "plt.ylim( X2.min(), X2.max() )\n",
        "for i, j in enumerate( np.unique( y_set) ):\n",
        " plt.scatter( X_set[ y_set == j, 0 ], X_set[ y_set == j, 1 ], c = ListedColormap( ( 'darkgreen', 'midnightblue' ) ) ( i ), label = j )\n",
        "plt.title( 'Random Forest Classification (Test Dataset)' )\n",
        "plt.xlabel( 'Age' )\n",
        "plt.ylabel( 'Estimated Salary' )\n",
        "plt.legend()\n",
        "plt.show()"
      ],
      "metadata": {
        "colab": {
          "base_uri": "https://localhost:8080/",
          "height": 350
        },
        "id": "ea8UTeU4Cyt6",
        "outputId": "5e2dc983-7f33-42cf-e3fa-7d7c56acdb03"
      },
      "execution_count": 18,
      "outputs": [
        {
          "output_type": "stream",
          "name": "stderr",
          "text": [
            "*c* argument looks like a single numeric RGB or RGBA sequence, which should be avoided as value-mapping will have precedence in case its length matches with *x* & *y*.  Please use the *color* keyword-argument or provide a 2-D array with a single row if you intend to specify the same RGB or RGBA value for all points.\n",
            "*c* argument looks like a single numeric RGB or RGBA sequence, which should be avoided as value-mapping will have precedence in case its length matches with *x* & *y*.  Please use the *color* keyword-argument or provide a 2-D array with a single row if you intend to specify the same RGB or RGBA value for all points.\n"
          ]
        },
        {
          "output_type": "display_data",
          "data": {
            "text/plain": [
              "<Figure size 432x288 with 1 Axes>"
            ],
            "image/png": "[encoded data removed]"
          },
          "metadata": {
            "needs_background": "light"
          }
        }
      ]
    },
    {
      "cell_type": "markdown",
      "source": [
        "Hence removing the Gender Column leads to a decrease in accuracy of 1% from 92% to 91%."
      ],
      "metadata": {
        "id": "EZ8ot9ZqDAcs"
      }
    }
  ]
}